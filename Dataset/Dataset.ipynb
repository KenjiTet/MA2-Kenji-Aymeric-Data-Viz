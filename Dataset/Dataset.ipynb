{
 "cells": [
  {
   "cell_type": "code",
   "execution_count": 1,
   "id": "dc343fa0",
   "metadata": {},
   "outputs": [],
   "source": [
    "import pandas as pd\n",
    "import networkx as nx\n",
    "import matplotlib.pyplot as plt\n",
    "import numpy as np"
   ]
  },
  {
   "cell_type": "code",
   "execution_count": 2,
   "id": "a034f82a",
   "metadata": {},
   "outputs": [],
   "source": [
    "poster = pd.read_csv('poster.csv')\n",
    "poster = poster.drop(['id','action','year','rating', 'adventure','comedy','crime','drama','fantasy','horror','mystery','romance','sci-fi','short','thriller','animation'], axis=1)\n",
    "poster.rename(columns={\"title\": \"Film\"}, inplace=True)\n"
   ]
  },
  {
   "cell_type": "code",
   "execution_count": 3,
   "id": "eaca1059",
   "metadata": {},
   "outputs": [
    {
     "data": {
      "text/html": [
       "<div>\n",
       "<style scoped>\n",
       "    .dataframe tbody tr th:only-of-type {\n",
       "        vertical-align: middle;\n",
       "    }\n",
       "\n",
       "    .dataframe tbody tr th {\n",
       "        vertical-align: top;\n",
       "    }\n",
       "\n",
       "    .dataframe thead th {\n",
       "        text-align: right;\n",
       "    }\n",
       "</style>\n",
       "<table border=\"1\" class=\"dataframe\">\n",
       "  <thead>\n",
       "    <tr style=\"text-align: right;\">\n",
       "      <th></th>\n",
       "      <th>Film</th>\n",
       "      <th>Actor</th>\n",
       "      <th>Year</th>\n",
       "      <th>Rating</th>\n",
       "    </tr>\n",
       "  </thead>\n",
       "  <tbody>\n",
       "    <tr>\n",
       "      <th>0</th>\n",
       "      <td>Ghost Story</td>\n",
       "      <td>Fred Astaire</td>\n",
       "      <td>1981</td>\n",
       "      <td>6.3</td>\n",
       "    </tr>\n",
       "    <tr>\n",
       "      <th>1</th>\n",
       "      <td>The Purple Taxi</td>\n",
       "      <td>Fred Astaire</td>\n",
       "      <td>1977</td>\n",
       "      <td>6.6</td>\n",
       "    </tr>\n",
       "    <tr>\n",
       "      <th>2</th>\n",
       "      <td>The Amazing Dobermans</td>\n",
       "      <td>Fred Astaire</td>\n",
       "      <td>1976</td>\n",
       "      <td>5.3</td>\n",
       "    </tr>\n",
       "    <tr>\n",
       "      <th>3</th>\n",
       "      <td>The Towering Inferno</td>\n",
       "      <td>Fred Astaire</td>\n",
       "      <td>1974</td>\n",
       "      <td>7.0</td>\n",
       "    </tr>\n",
       "    <tr>\n",
       "      <th>4</th>\n",
       "      <td>Midas Run</td>\n",
       "      <td>Fred Astaire</td>\n",
       "      <td>1969</td>\n",
       "      <td>4.8</td>\n",
       "    </tr>\n",
       "    <tr>\n",
       "      <th>...</th>\n",
       "      <td>...</td>\n",
       "      <td>...</td>\n",
       "      <td>...</td>\n",
       "      <td>...</td>\n",
       "    </tr>\n",
       "    <tr>\n",
       "      <th>191868</th>\n",
       "      <td>Jojo Rabbit</td>\n",
       "      <td>Roman Griffin Davis</td>\n",
       "      <td>2019</td>\n",
       "      <td>7.9</td>\n",
       "    </tr>\n",
       "    <tr>\n",
       "      <th>191869</th>\n",
       "      <td>Silk Road</td>\n",
       "      <td>Lexi Rabe</td>\n",
       "      <td>2021</td>\n",
       "      <td>5.9</td>\n",
       "    </tr>\n",
       "    <tr>\n",
       "      <th>191870</th>\n",
       "      <td>Avengers: Endgame</td>\n",
       "      <td>Lexi Rabe</td>\n",
       "      <td>2019</td>\n",
       "      <td>8.4</td>\n",
       "    </tr>\n",
       "    <tr>\n",
       "      <th>191871</th>\n",
       "      <td>Godzilla: King of the Monsters</td>\n",
       "      <td>Lexi Rabe</td>\n",
       "      <td>2019</td>\n",
       "      <td>6.0</td>\n",
       "    </tr>\n",
       "    <tr>\n",
       "      <th>191872</th>\n",
       "      <td>Wander Darkly</td>\n",
       "      <td>Inde Navarrette</td>\n",
       "      <td>2020</td>\n",
       "      <td>5.8</td>\n",
       "    </tr>\n",
       "  </tbody>\n",
       "</table>\n",
       "<p>191873 rows × 4 columns</p>\n",
       "</div>"
      ],
      "text/plain": [
       "                                  Film                Actor  Year  Rating\n",
       "0                          Ghost Story         Fred Astaire  1981     6.3\n",
       "1                      The Purple Taxi         Fred Astaire  1977     6.6\n",
       "2                The Amazing Dobermans         Fred Astaire  1976     5.3\n",
       "3                 The Towering Inferno         Fred Astaire  1974     7.0\n",
       "4                            Midas Run         Fred Astaire  1969     4.8\n",
       "...                                ...                  ...   ...     ...\n",
       "191868                     Jojo Rabbit  Roman Griffin Davis  2019     7.9\n",
       "191869                       Silk Road            Lexi Rabe  2021     5.9\n",
       "191870               Avengers: Endgame            Lexi Rabe  2019     8.4\n",
       "191871  Godzilla: King of the Monsters            Lexi Rabe  2019     6.0\n",
       "191872                   Wander Darkly      Inde Navarrette  2020     5.8\n",
       "\n",
       "[191873 rows x 4 columns]"
      ]
     },
     "execution_count": 3,
     "metadata": {},
     "output_type": "execute_result"
    }
   ],
   "source": [
    "big_actor_movie = pd.read_csv('actorfilms.csv')  \n",
    "df_big_actor_movie = big_actor_movie[['Film', 'Actor','Year','Rating']]\n",
    "df_big_actor_movie"
   ]
  },
  {
   "cell_type": "code",
   "execution_count": 4,
   "id": "cfbfdfa1",
   "metadata": {},
   "outputs": [],
   "source": [
    "big_actors = np.unique(df_big_actor_movie['Actor'])\n",
    "big_films = np.unique(df_big_actor_movie['Film'])\n",
    "\n",
    "\n",
    "big_actor_by_film = dict.fromkeys(big_films, [])\n",
    "big_actor_by_film\n",
    "\n",
    "for i in range(len(df_big_actor_movie)):\n",
    "    big_actor_by_film[df_big_actor_movie['Film'][i]] = big_actor_by_film[df_big_actor_movie['Film'][i]] + [df_big_actor_movie['Actor'][i]]"
   ]
  },
  {
   "cell_type": "code",
   "execution_count": 5,
   "id": "48aa3316",
   "metadata": {},
   "outputs": [
    {
     "data": {
      "text/html": [
       "<div>\n",
       "<style scoped>\n",
       "    .dataframe tbody tr th:only-of-type {\n",
       "        vertical-align: middle;\n",
       "    }\n",
       "\n",
       "    .dataframe tbody tr th {\n",
       "        vertical-align: top;\n",
       "    }\n",
       "\n",
       "    .dataframe thead th {\n",
       "        text-align: right;\n",
       "    }\n",
       "</style>\n",
       "<table border=\"1\" class=\"dataframe\">\n",
       "  <thead>\n",
       "    <tr style=\"text-align: right;\">\n",
       "      <th></th>\n",
       "      <th>Film</th>\n",
       "      <th>Actor list</th>\n",
       "    </tr>\n",
       "  </thead>\n",
       "  <tbody>\n",
       "    <tr>\n",
       "      <th>0</th>\n",
       "      <td>!Ay, mi madre!</td>\n",
       "      <td>[Paz Vega]</td>\n",
       "    </tr>\n",
       "    <tr>\n",
       "      <th>1</th>\n",
       "      <td>!Hay motivo!</td>\n",
       "      <td>[Luis Tosar, Marta Etura]</td>\n",
       "    </tr>\n",
       "    <tr>\n",
       "      <th>2</th>\n",
       "      <td>!Three Amigos!</td>\n",
       "      <td>[Steve Martin, Chevy Chase, Jon Lovitz, Joe Ma...</td>\n",
       "    </tr>\n",
       "    <tr>\n",
       "      <th>3</th>\n",
       "      <td>#Alive</td>\n",
       "      <td>[Park Shin-Hye]</td>\n",
       "    </tr>\n",
       "    <tr>\n",
       "      <th>4</th>\n",
       "      <td>#Horror</td>\n",
       "      <td>[Timothy Hutton, Balthazar Getty, Chloe Sevign...</td>\n",
       "    </tr>\n",
       "  </tbody>\n",
       "</table>\n",
       "</div>"
      ],
      "text/plain": [
       "             Film                                         Actor list\n",
       "0  !Ay, mi madre!                                         [Paz Vega]\n",
       "1    !Hay motivo!                          [Luis Tosar, Marta Etura]\n",
       "2  !Three Amigos!  [Steve Martin, Chevy Chase, Jon Lovitz, Joe Ma...\n",
       "3          #Alive                                    [Park Shin-Hye]\n",
       "4         #Horror  [Timothy Hutton, Balthazar Getty, Chloe Sevign..."
      ]
     },
     "execution_count": 5,
     "metadata": {},
     "output_type": "execute_result"
    }
   ],
   "source": [
    "big_actor_by_film_df = pd.DataFrame(big_actor_by_film.items(), columns = ['Film', 'Actor list'])\n",
    "big_actor_by_film_df.head()"
   ]
  },
  {
   "cell_type": "code",
   "execution_count": 6,
   "id": "6ec8f5c2",
   "metadata": {},
   "outputs": [
    {
     "data": {
      "text/html": [
       "<div>\n",
       "<style scoped>\n",
       "    .dataframe tbody tr th:only-of-type {\n",
       "        vertical-align: middle;\n",
       "    }\n",
       "\n",
       "    .dataframe tbody tr th {\n",
       "        vertical-align: top;\n",
       "    }\n",
       "\n",
       "    .dataframe thead th {\n",
       "        text-align: right;\n",
       "    }\n",
       "</style>\n",
       "<table border=\"1\" class=\"dataframe\">\n",
       "  <thead>\n",
       "    <tr style=\"text-align: right;\">\n",
       "      <th></th>\n",
       "      <th>Film</th>\n",
       "      <th>Actor list</th>\n",
       "      <th>poster</th>\n",
       "      <th>genre</th>\n",
       "    </tr>\n",
       "  </thead>\n",
       "  <tbody>\n",
       "    <tr>\n",
       "      <th>0</th>\n",
       "      <td>#Alive</td>\n",
       "      <td>[Park Shin-Hye]</td>\n",
       "      <td>https://m.media-amazon.com/images/M/MV5BMGNiYj...</td>\n",
       "      <td>action, drama, horror</td>\n",
       "    </tr>\n",
       "    <tr>\n",
       "      <th>1</th>\n",
       "      <td>#Horror</td>\n",
       "      <td>[Timothy Hutton, Balthazar Getty, Chloe Sevign...</td>\n",
       "      <td>https://m.media-amazon.com/images/M/MV5BMjM5OD...</td>\n",
       "      <td>crime, drama, horror</td>\n",
       "    </tr>\n",
       "    <tr>\n",
       "      <th>2</th>\n",
       "      <td>#Iamhere</td>\n",
       "      <td>[Bae Doona]</td>\n",
       "      <td>https://m.media-amazon.com/images/M/MV5BZjRhN2...</td>\n",
       "      <td>comedy</td>\n",
       "    </tr>\n",
       "    <tr>\n",
       "      <th>3</th>\n",
       "      <td>#NAME?</td>\n",
       "      <td>[Ray Milland, Robert Montgomery]</td>\n",
       "      <td>https://m.media-amazon.com/images/M/MV5BNzdlZj...</td>\n",
       "      <td>animation, short, comedy</td>\n",
       "    </tr>\n",
       "    <tr>\n",
       "      <th>4</th>\n",
       "      <td>#REALITYHIGH</td>\n",
       "      <td>[Kate Walsh, John Michael Higgins, Anne Winter...</td>\n",
       "      <td>https://m.media-amazon.com/images/M/MV5BNDU3Mz...</td>\n",
       "      <td>comedy, drama, romance</td>\n",
       "    </tr>\n",
       "  </tbody>\n",
       "</table>\n",
       "</div>"
      ],
      "text/plain": [
       "           Film                                         Actor list  \\\n",
       "0        #Alive                                    [Park Shin-Hye]   \n",
       "1       #Horror  [Timothy Hutton, Balthazar Getty, Chloe Sevign...   \n",
       "2      #Iamhere                                        [Bae Doona]   \n",
       "3        #NAME?                   [Ray Milland, Robert Montgomery]   \n",
       "4  #REALITYHIGH  [Kate Walsh, John Michael Higgins, Anne Winter...   \n",
       "\n",
       "                                              poster                     genre  \n",
       "0  https://m.media-amazon.com/images/M/MV5BMGNiYj...     action, drama, horror  \n",
       "1  https://m.media-amazon.com/images/M/MV5BMjM5OD...      crime, drama, horror  \n",
       "2  https://m.media-amazon.com/images/M/MV5BZjRhN2...                    comedy  \n",
       "3  https://m.media-amazon.com/images/M/MV5BNzdlZj...  animation, short, comedy  \n",
       "4  https://m.media-amazon.com/images/M/MV5BNDU3Mz...    comedy, drama, romance  "
      ]
     },
     "execution_count": 6,
     "metadata": {},
     "output_type": "execute_result"
    }
   ],
   "source": [
    "df = pd.merge(big_actor_by_film_df, poster, on=\"Film\")\n",
    "df.head()"
   ]
  },
  {
   "cell_type": "code",
   "execution_count": 7,
   "id": "84c9d7f5",
   "metadata": {},
   "outputs": [
    {
     "data": {
      "text/html": [
       "<div>\n",
       "<style scoped>\n",
       "    .dataframe tbody tr th:only-of-type {\n",
       "        vertical-align: middle;\n",
       "    }\n",
       "\n",
       "    .dataframe tbody tr th {\n",
       "        vertical-align: top;\n",
       "    }\n",
       "\n",
       "    .dataframe thead th {\n",
       "        text-align: right;\n",
       "    }\n",
       "</style>\n",
       "<table border=\"1\" class=\"dataframe\">\n",
       "  <thead>\n",
       "    <tr style=\"text-align: right;\">\n",
       "      <th></th>\n",
       "      <th>index</th>\n",
       "      <th>Film</th>\n",
       "      <th>Actor list</th>\n",
       "      <th>poster</th>\n",
       "      <th>genre</th>\n",
       "    </tr>\n",
       "  </thead>\n",
       "  <tbody>\n",
       "    <tr>\n",
       "      <th>0</th>\n",
       "      <td>0</td>\n",
       "      <td>#Alive</td>\n",
       "      <td>[Park Shin-Hye]</td>\n",
       "      <td>https://m.media-amazon.com/images/M/MV5BMGNiYj...</td>\n",
       "      <td>action, drama, horror</td>\n",
       "    </tr>\n",
       "    <tr>\n",
       "      <th>1</th>\n",
       "      <td>1</td>\n",
       "      <td>#Horror</td>\n",
       "      <td>[Timothy Hutton, Balthazar Getty, Chloe Sevign...</td>\n",
       "      <td>https://m.media-amazon.com/images/M/MV5BMjM5OD...</td>\n",
       "      <td>crime, drama, horror</td>\n",
       "    </tr>\n",
       "    <tr>\n",
       "      <th>2</th>\n",
       "      <td>2</td>\n",
       "      <td>#Iamhere</td>\n",
       "      <td>[Bae Doona]</td>\n",
       "      <td>https://m.media-amazon.com/images/M/MV5BZjRhN2...</td>\n",
       "      <td>comedy</td>\n",
       "    </tr>\n",
       "    <tr>\n",
       "      <th>3</th>\n",
       "      <td>3</td>\n",
       "      <td>#NAME?</td>\n",
       "      <td>[Ray Milland, Robert Montgomery]</td>\n",
       "      <td>https://m.media-amazon.com/images/M/MV5BNzdlZj...</td>\n",
       "      <td>animation, short, comedy</td>\n",
       "    </tr>\n",
       "    <tr>\n",
       "      <th>4</th>\n",
       "      <td>4</td>\n",
       "      <td>#REALITYHIGH</td>\n",
       "      <td>[Kate Walsh, John Michael Higgins, Anne Winter...</td>\n",
       "      <td>https://m.media-amazon.com/images/M/MV5BNDU3Mz...</td>\n",
       "      <td>comedy, drama, romance</td>\n",
       "    </tr>\n",
       "  </tbody>\n",
       "</table>\n",
       "</div>"
      ],
      "text/plain": [
       "   index          Film                                         Actor list  \\\n",
       "0      0        #Alive                                    [Park Shin-Hye]   \n",
       "1      1       #Horror  [Timothy Hutton, Balthazar Getty, Chloe Sevign...   \n",
       "2      2      #Iamhere                                        [Bae Doona]   \n",
       "3      3        #NAME?                   [Ray Milland, Robert Montgomery]   \n",
       "4      4  #REALITYHIGH  [Kate Walsh, John Michael Higgins, Anne Winter...   \n",
       "\n",
       "                                              poster                     genre  \n",
       "0  https://m.media-amazon.com/images/M/MV5BMGNiYj...     action, drama, horror  \n",
       "1  https://m.media-amazon.com/images/M/MV5BMjM5OD...      crime, drama, horror  \n",
       "2  https://m.media-amazon.com/images/M/MV5BZjRhN2...                    comedy  \n",
       "3  https://m.media-amazon.com/images/M/MV5BNzdlZj...  animation, short, comedy  \n",
       "4  https://m.media-amazon.com/images/M/MV5BNDU3Mz...    comedy, drama, romance  "
      ]
     },
     "execution_count": 7,
     "metadata": {},
     "output_type": "execute_result"
    }
   ],
   "source": [
    "df = df.drop_duplicates(subset=['Film'])\n",
    "df = df.reset_index()\n",
    "df.head()"
   ]
  },
  {
   "cell_type": "code",
   "execution_count": 8,
   "id": "5ceee062",
   "metadata": {},
   "outputs": [],
   "source": [
    "actors = np.unique(df['Actor list'])\n",
    "genre = np.unique(df['genre'].str.split(', ').sum())\n",
    "movie = np.unique(df['Film'].str.split(', ').sum())"
   ]
  },
  {
   "cell_type": "code",
   "execution_count": 9,
   "id": "2796bd4c",
   "metadata": {},
   "outputs": [],
   "source": [
    "combined_list = []\n",
    "\n",
    "for lst in actors:\n",
    "    combined_list.extend(lst)\n",
    "\n",
    "unique_list = list(set(combined_list))"
   ]
  },
  {
   "cell_type": "code",
   "execution_count": 10,
   "id": "c5ea3d2b",
   "metadata": {},
   "outputs": [],
   "source": [
    "unique_list = np.array(unique_list)"
   ]
  },
  {
   "cell_type": "code",
   "execution_count": 11,
   "id": "bd27a31e",
   "metadata": {},
   "outputs": [
    {
     "data": {
      "text/plain": [
       "array(['Michaela Coel', 'Bodhi Elfman', 'John Hannah', ...,\n",
       "       'Lorna Nickson Brown', 'Megan Hilty', 'Alec Guinness'],\n",
       "      dtype='<U27')"
      ]
     },
     "execution_count": 11,
     "metadata": {},
     "output_type": "execute_result"
    }
   ],
   "source": [
    "unique_list"
   ]
  },
  {
   "cell_type": "code",
   "execution_count": 12,
   "id": "b1b2b3c2",
   "metadata": {},
   "outputs": [],
   "source": [
    "df['Actor_List_id'] = df['Actor list'].apply(lambda x: [np.where(unique_list == i)[0][0] for i in x])"
   ]
  },
  {
   "cell_type": "code",
   "execution_count": 13,
   "id": "fa2afa0c",
   "metadata": {},
   "outputs": [
    {
     "data": {
      "text/html": [
       "<div>\n",
       "<style scoped>\n",
       "    .dataframe tbody tr th:only-of-type {\n",
       "        vertical-align: middle;\n",
       "    }\n",
       "\n",
       "    .dataframe tbody tr th {\n",
       "        vertical-align: top;\n",
       "    }\n",
       "\n",
       "    .dataframe thead th {\n",
       "        text-align: right;\n",
       "    }\n",
       "</style>\n",
       "<table border=\"1\" class=\"dataframe\">\n",
       "  <thead>\n",
       "    <tr style=\"text-align: right;\">\n",
       "      <th></th>\n",
       "      <th>index</th>\n",
       "      <th>Film</th>\n",
       "      <th>Actor list</th>\n",
       "      <th>poster</th>\n",
       "      <th>genre</th>\n",
       "      <th>Actor_List_id</th>\n",
       "    </tr>\n",
       "  </thead>\n",
       "  <tbody>\n",
       "    <tr>\n",
       "      <th>0</th>\n",
       "      <td>0</td>\n",
       "      <td>#Alive</td>\n",
       "      <td>[Park Shin-Hye]</td>\n",
       "      <td>https://m.media-amazon.com/images/M/MV5BMGNiYj...</td>\n",
       "      <td>action, drama, horror</td>\n",
       "      <td>[1224]</td>\n",
       "    </tr>\n",
       "    <tr>\n",
       "      <th>1</th>\n",
       "      <td>1</td>\n",
       "      <td>#Horror</td>\n",
       "      <td>[Timothy Hutton, Balthazar Getty, Chloe Sevign...</td>\n",
       "      <td>https://m.media-amazon.com/images/M/MV5BMjM5OD...</td>\n",
       "      <td>crime, drama, horror</td>\n",
       "      <td>[1890, 4557, 2069, 1213, 507, 6946]</td>\n",
       "    </tr>\n",
       "    <tr>\n",
       "      <th>2</th>\n",
       "      <td>2</td>\n",
       "      <td>#Iamhere</td>\n",
       "      <td>[Bae Doona]</td>\n",
       "      <td>https://m.media-amazon.com/images/M/MV5BZjRhN2...</td>\n",
       "      <td>comedy</td>\n",
       "      <td>[4126]</td>\n",
       "    </tr>\n",
       "    <tr>\n",
       "      <th>3</th>\n",
       "      <td>3</td>\n",
       "      <td>#NAME?</td>\n",
       "      <td>[Ray Milland, Robert Montgomery]</td>\n",
       "      <td>https://m.media-amazon.com/images/M/MV5BNzdlZj...</td>\n",
       "      <td>animation, short, comedy</td>\n",
       "      <td>[6483, 2544]</td>\n",
       "    </tr>\n",
       "    <tr>\n",
       "      <th>4</th>\n",
       "      <td>4</td>\n",
       "      <td>#REALITYHIGH</td>\n",
       "      <td>[Kate Walsh, John Michael Higgins, Anne Winter...</td>\n",
       "      <td>https://m.media-amazon.com/images/M/MV5BNDU3Mz...</td>\n",
       "      <td>comedy, drama, romance</td>\n",
       "      <td>[7390, 7519, 971, 5017, 7280, 7908]</td>\n",
       "    </tr>\n",
       "  </tbody>\n",
       "</table>\n",
       "</div>"
      ],
      "text/plain": [
       "   index          Film                                         Actor list  \\\n",
       "0      0        #Alive                                    [Park Shin-Hye]   \n",
       "1      1       #Horror  [Timothy Hutton, Balthazar Getty, Chloe Sevign...   \n",
       "2      2      #Iamhere                                        [Bae Doona]   \n",
       "3      3        #NAME?                   [Ray Milland, Robert Montgomery]   \n",
       "4      4  #REALITYHIGH  [Kate Walsh, John Michael Higgins, Anne Winter...   \n",
       "\n",
       "                                              poster  \\\n",
       "0  https://m.media-amazon.com/images/M/MV5BMGNiYj...   \n",
       "1  https://m.media-amazon.com/images/M/MV5BMjM5OD...   \n",
       "2  https://m.media-amazon.com/images/M/MV5BZjRhN2...   \n",
       "3  https://m.media-amazon.com/images/M/MV5BNzdlZj...   \n",
       "4  https://m.media-amazon.com/images/M/MV5BNDU3Mz...   \n",
       "\n",
       "                      genre                        Actor_List_id  \n",
       "0     action, drama, horror                               [1224]  \n",
       "1      crime, drama, horror  [1890, 4557, 2069, 1213, 507, 6946]  \n",
       "2                    comedy                               [4126]  \n",
       "3  animation, short, comedy                         [6483, 2544]  \n",
       "4    comedy, drama, romance  [7390, 7519, 971, 5017, 7280, 7908]  "
      ]
     },
     "execution_count": 13,
     "metadata": {},
     "output_type": "execute_result"
    }
   ],
   "source": [
    "df.head()"
   ]
  },
  {
   "cell_type": "code",
   "execution_count": 14,
   "id": "c53b24ed",
   "metadata": {},
   "outputs": [],
   "source": [
    "adj_matrix = np.zeros((len(unique_list),len(unique_list)))"
   ]
  },
  {
   "cell_type": "code",
   "execution_count": 22,
   "id": "9118108f",
   "metadata": {},
   "outputs": [
    {
     "data": {
      "text/plain": [
       "'T'"
      ]
     },
     "execution_count": 22,
     "metadata": {},
     "output_type": "execute_result"
    }
   ],
   "source": [
    "df['Actor list'][1][0][0]"
   ]
  },
  {
   "cell_type": "code",
   "execution_count": 21,
   "id": "b41e1a02",
   "metadata": {},
   "outputs": [],
   "source": [
    "for i in range(len(df)):\n",
    "    for j in range(len(df['Actor_List_id'][i])-1):\n",
    "        for k in range(j+1,len(df['Actor_List_id'][i])-1):\n",
    "            adj_matrix[df['Actor_List_id'][i][j]][df['Actor_List_id'][i][k]] = adj_matrix[df['Actor_List_id'][i][j]][df['Actor_List_id'][i][k]]+ 1\n",
    "            adj_matrix[df['Actor_List_id'][i][k]][df['Actor_List_id'][i][j]] = adj_matrix[df['Actor_List_id'][i][k]][df['Actor_List_id'][i][j]]+ 1"
   ]
  },
  {
   "cell_type": "code",
   "execution_count": null,
   "id": "6ed817d0",
   "metadata": {},
   "outputs": [],
   "source": [
    "adj_matrix[6094][4040]"
   ]
  },
  {
   "cell_type": "code",
   "execution_count": null,
   "id": "363108bd",
   "metadata": {
    "scrolled": true
   },
   "outputs": [],
   "source": [
    "filtered_df = df[df['Actor list'].apply(lambda x:\"Robert De Niro\" in x)]\n",
    "filtered_df"
   ]
  },
  {
   "cell_type": "code",
   "execution_count": null,
   "id": "3e13b1b8",
   "metadata": {
    "scrolled": true
   },
   "outputs": [],
   "source": [
    "filtered_df = df[df['Film'].apply(lambda x:\"Shining\" in x)]\n",
    "filtered_df"
   ]
  },
  {
   "cell_type": "code",
   "execution_count": null,
   "id": "c3893327",
   "metadata": {},
   "outputs": [],
   "source": []
  }
 ],
 "metadata": {
  "kernelspec": {
   "display_name": "Python 3 (ipykernel)",
   "language": "python",
   "name": "python3"
  },
  "language_info": {
   "codemirror_mode": {
    "name": "ipython",
    "version": 3
   },
   "file_extension": ".py",
   "mimetype": "text/x-python",
   "name": "python",
   "nbconvert_exporter": "python",
   "pygments_lexer": "ipython3",
   "version": "3.9.12"
  }
 },
 "nbformat": 4,
 "nbformat_minor": 5
}
